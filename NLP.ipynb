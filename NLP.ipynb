{
 "cells": [
  {
   "cell_type": "code",
   "execution_count": 10,
   "id": "3caffd2a",
   "metadata": {},
   "outputs": [],
   "source": [
    "import pandas as pd \n",
    "text = [\"This is the NLP TASKS ARTICLE written by ABhishek Jaiswal\" , \"IN this article I”ll be explaining various DATA-CLEANING techniques\", \"So stay tuned for FURther More && \",\"Nah I don't think he goes to usf, he lives around\"]\n",
    "df = pd.DataFrame({'text':text})"
   ]
  },
  {
   "cell_type": "code",
   "execution_count": 11,
   "id": "9de3affa",
   "metadata": {},
   "outputs": [
    {
     "data": {
      "text/html": [
       "<div>\n",
       "<style scoped>\n",
       "    .dataframe tbody tr th:only-of-type {\n",
       "        vertical-align: middle;\n",
       "    }\n",
       "\n",
       "    .dataframe tbody tr th {\n",
       "        vertical-align: top;\n",
       "    }\n",
       "\n",
       "    .dataframe thead th {\n",
       "        text-align: right;\n",
       "    }\n",
       "</style>\n",
       "<table border=\"1\" class=\"dataframe\">\n",
       "  <thead>\n",
       "    <tr style=\"text-align: right;\">\n",
       "      <th></th>\n",
       "      <th>text</th>\n",
       "    </tr>\n",
       "  </thead>\n",
       "  <tbody>\n",
       "    <tr>\n",
       "      <th>0</th>\n",
       "      <td>This is the NLP TASKS ARTICLE written by ABhis...</td>\n",
       "    </tr>\n",
       "    <tr>\n",
       "      <th>1</th>\n",
       "      <td>IN this article I”ll be explaining various DAT...</td>\n",
       "    </tr>\n",
       "    <tr>\n",
       "      <th>2</th>\n",
       "      <td>So stay tuned for FURther More &amp;&amp;</td>\n",
       "    </tr>\n",
       "    <tr>\n",
       "      <th>3</th>\n",
       "      <td>Nah I don't think he goes to usf, he lives around</td>\n",
       "    </tr>\n",
       "  </tbody>\n",
       "</table>\n",
       "</div>"
      ],
      "text/plain": [
       "                                                text\n",
       "0  This is the NLP TASKS ARTICLE written by ABhis...\n",
       "1  IN this article I”ll be explaining various DAT...\n",
       "2                 So stay tuned for FURther More && \n",
       "3  Nah I don't think he goes to usf, he lives around"
      ]
     },
     "execution_count": 11,
     "metadata": {},
     "output_type": "execute_result"
    }
   ],
   "source": [
    "df"
   ]
  },
  {
   "cell_type": "code",
   "execution_count": 12,
   "id": "c8c1a2ba",
   "metadata": {},
   "outputs": [],
   "source": [
    "df['lower'] = df['text'].apply(lambda x: \" \".join(x.lower()  for x in x.split()))"
   ]
  },
  {
   "cell_type": "code",
   "execution_count": 13,
   "id": "621c507c",
   "metadata": {},
   "outputs": [
    {
     "data": {
      "text/plain": [
       "0    this is the nlp tasks article written by abhis...\n",
       "1    in this article i”ll be explaining various dat...\n",
       "2                    so stay tuned for further more &&\n",
       "3    nah i don't think he goes to usf, he lives around\n",
       "Name: lower, dtype: object"
      ]
     },
     "execution_count": 13,
     "metadata": {},
     "output_type": "execute_result"
    }
   ],
   "source": [
    "df['lower']"
   ]
  },
  {
   "cell_type": "code",
   "execution_count": 14,
   "id": "605bf53b",
   "metadata": {},
   "outputs": [],
   "source": [
    "import string"
   ]
  },
  {
   "cell_type": "code",
   "execution_count": 15,
   "id": "33de013e",
   "metadata": {},
   "outputs": [
    {
     "data": {
      "text/plain": [
       "'!\"#$%&\\'()*+,-./:;<=>?@[\\\\]^_`{|}~'"
      ]
     },
     "execution_count": 15,
     "metadata": {},
     "output_type": "execute_result"
    }
   ],
   "source": [
    "string.punctuation"
   ]
  },
  {
   "cell_type": "code",
   "execution_count": 17,
   "id": "c875bb8f",
   "metadata": {},
   "outputs": [],
   "source": [
    "df1 = df.text.apply(lambda x: \"\".join(i for i in x if i not in string.punctuation))"
   ]
  },
  {
   "cell_type": "code",
   "execution_count": 18,
   "id": "22c9d1ee",
   "metadata": {},
   "outputs": [
    {
     "data": {
      "text/plain": [
       "0    This is the NLP TASKS ARTICLE written by ABhis...\n",
       "1    IN this article I”ll be explaining various DAT...\n",
       "2                     So stay tuned for FURther More  \n",
       "3      Nah I dont think he goes to usf he lives around\n",
       "Name: text, dtype: object"
      ]
     },
     "execution_count": 18,
     "metadata": {},
     "output_type": "execute_result"
    }
   ],
   "source": [
    "df1"
   ]
  },
  {
   "cell_type": "code",
   "execution_count": null,
   "id": "41651b0f",
   "metadata": {},
   "outputs": [],
   "source": []
  }
 ],
 "metadata": {
  "kernelspec": {
   "display_name": "Python 3 (ipykernel)",
   "language": "python",
   "name": "python3"
  },
  "language_info": {
   "codemirror_mode": {
    "name": "ipython",
    "version": 3
   },
   "file_extension": ".py",
   "mimetype": "text/x-python",
   "name": "python",
   "nbconvert_exporter": "python",
   "pygments_lexer": "ipython3",
   "version": "3.9.7"
  }
 },
 "nbformat": 4,
 "nbformat_minor": 5
}
