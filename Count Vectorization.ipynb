{
 "cells": [
  {
   "cell_type": "code",
   "execution_count": 1,
   "id": "319e83f5",
   "metadata": {},
   "outputs": [],
   "source": [
    "from sklearn.feature_extraction.text import CountVectorizer"
   ]
  },
  {
   "cell_type": "code",
   "execution_count": 2,
   "id": "0841a6c9",
   "metadata": {},
   "outputs": [],
   "source": [
    "# To create a Count Vectorizer, we simply need to instantiate one.\n",
    "# There are special parameters we can set here when making the vectorizer, but\n",
    "# for the most basic example, it is not needed.\n",
    "vectorizer = CountVectorizer()"
   ]
  },
  {
   "cell_type": "code",
   "execution_count": 4,
   "id": "6530992c",
   "metadata": {},
   "outputs": [],
   "source": [
    "# For our text, we are going to take some text from our previous blog post\n",
    "# about count vectorization\n",
    "sample_text = [\"One of the most basic ways we can numerically represent words \"\n",
    "               \"is through the one-hot encoding method (also sometimes called \"\n",
    "               \"count vectorizing).\"]"
   ]
  },
  {
   "cell_type": "code",
   "execution_count": 5,
   "id": "e9cf417c",
   "metadata": {},
   "outputs": [
    {
     "data": {
      "text/plain": [
       "['One of the most basic ways we can numerically represent words is through the one-hot encoding method (also sometimes called count vectorizing).']"
      ]
     },
     "execution_count": 5,
     "metadata": {},
     "output_type": "execute_result"
    }
   ],
   "source": [
    "sample_text"
   ]
  },
  {
   "cell_type": "code",
   "execution_count": 6,
   "id": "2a133afa",
   "metadata": {},
   "outputs": [
    {
     "data": {
      "text/plain": [
       "CountVectorizer()"
      ]
     },
     "execution_count": 6,
     "metadata": {},
     "output_type": "execute_result"
    }
   ],
   "source": [
    "# To actually create the vectorizer, we simply need to call fit on the text\n",
    "# data that we wish to fix\n",
    "vectorizer.fit(sample_text)"
   ]
  },
  {
   "cell_type": "code",
   "execution_count": 7,
   "id": "3d462723",
   "metadata": {},
   "outputs": [
    {
     "name": "stdout",
     "output_type": "stream",
     "text": [
      "Vocabulary: \n",
      "{'one': 12, 'of': 11, 'the': 15, 'most': 9, 'basic': 1, 'ways': 18, 'we': 19, 'can': 3, 'numerically': 10, 'represent': 13, 'words': 20, 'is': 7, 'through': 16, 'hot': 6, 'encoding': 5, 'method': 8, 'also': 0, 'sometimes': 14, 'called': 2, 'count': 4, 'vectorizing': 17}\n"
     ]
    }
   ],
   "source": [
    "# Now, we can inspect how our vectorizer vectorized the text\n",
    "# This will print out a list of words used, and their index in the vectors\n",
    "print('Vocabulary: ')\n",
    "print(vectorizer.vocabulary_)"
   ]
  },
  {
   "cell_type": "code",
   "execution_count": 8,
   "id": "d300097a",
   "metadata": {},
   "outputs": [],
   "source": [
    "# If we would like to actually create a vector, we can do so by passing the\n",
    "# text into the vectorizer to get back counts\n",
    "vector = vectorizer.transform(sample_text)"
   ]
  },
  {
   "cell_type": "code",
   "execution_count": 9,
   "id": "43cc92fa",
   "metadata": {},
   "outputs": [
    {
     "data": {
      "text/plain": [
       "<1x21 sparse matrix of type '<class 'numpy.int64'>'\n",
       "\twith 21 stored elements in Compressed Sparse Row format>"
      ]
     },
     "execution_count": 9,
     "metadata": {},
     "output_type": "execute_result"
    }
   ],
   "source": [
    "vector"
   ]
  },
  {
   "cell_type": "code",
   "execution_count": 10,
   "id": "5affd34f",
   "metadata": {},
   "outputs": [
    {
     "name": "stdout",
     "output_type": "stream",
     "text": [
      "Full vector: \n",
      "[[1 1 1 1 1 1 1 1 1 1 1 1 2 1 1 2 1 1 1 1 1]]\n"
     ]
    }
   ],
   "source": [
    "# Our final vector:\n",
    "print('Full vector: ')\n",
    "print(vector.toarray())"
   ]
  },
  {
   "cell_type": "code",
   "execution_count": 11,
   "id": "acfec89a",
   "metadata": {},
   "outputs": [
    {
     "name": "stdout",
     "output_type": "stream",
     "text": [
      "Hot vector: \n",
      "[[0 0 0 0 0 0 1 0 0 0 0 0 0 0 0 0 0 0 0 0 0]]\n"
     ]
    }
   ],
   "source": [
    "# Or if we wanted to get the vector for one word:\n",
    "print('Hot vector: ')\n",
    "print(vectorizer.transform(['hot']).toarray())"
   ]
  },
  {
   "cell_type": "code",
   "execution_count": 12,
   "id": "955a3ae6",
   "metadata": {},
   "outputs": [
    {
     "name": "stdout",
     "output_type": "stream",
     "text": [
      "Hot and one: \n",
      "[[0 0 0 0 0 0 1 0 0 0 0 0 0 0 0 0 0 0 0 0 0]\n",
      " [0 0 0 0 0 0 0 0 0 0 0 0 1 0 0 0 0 0 0 0 0]]\n"
     ]
    }
   ],
   "source": [
    "# Or if we wanted to get multiple vectors at once to build matrices\n",
    "print('Hot and one: ')\n",
    "print(vectorizer.transform(['hot', 'one']).toarray())\n"
   ]
  },
  {
   "cell_type": "code",
   "execution_count": 13,
   "id": "f748bc81",
   "metadata": {},
   "outputs": [
    {
     "name": "stdout",
     "output_type": "stream",
     "text": [
      "One swoop:\n",
      "[[1 1 1 1 2 1 3]]\n"
     ]
    }
   ],
   "source": [
    "# We could also do the whole thing at once with the fit_transform method:\n",
    "print('One swoop:')\n",
    "new_text = ['Today is the day that I do the thing today, today']\n",
    "new_vectorizer = CountVectorizer()\n",
    "print(new_vectorizer.fit_transform(new_text).toarray())"
   ]
  },
  {
   "cell_type": "code",
   "execution_count": null,
   "id": "eff4e0e4",
   "metadata": {},
   "outputs": [],
   "source": []
  }
 ],
 "metadata": {
  "kernelspec": {
   "display_name": "Python 3 (ipykernel)",
   "language": "python",
   "name": "python3"
  },
  "language_info": {
   "codemirror_mode": {
    "name": "ipython",
    "version": 3
   },
   "file_extension": ".py",
   "mimetype": "text/x-python",
   "name": "python",
   "nbconvert_exporter": "python",
   "pygments_lexer": "ipython3",
   "version": "3.9.7"
  }
 },
 "nbformat": 4,
 "nbformat_minor": 5
}
